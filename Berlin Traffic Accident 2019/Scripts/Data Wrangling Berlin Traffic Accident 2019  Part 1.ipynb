{
 "cells": [
  {
   "cell_type": "markdown",
   "id": "60100c00",
   "metadata": {},
   "source": [
    "# Data Wrangling Berlin Traffic Accident 2019 Part 1"
   ]
  },
  {
   "cell_type": "markdown",
   "id": "c51a3a10",
   "metadata": {},
   "source": [
    "The goal of this analysis is to explore the official statistics for road traffic accidents in Berlin in 2019.\n",
    "\n",
    "The dataset is publicly available through the Berlin Open Data project:  \n",
    "(https://daten.berlin.de/datensaetze/strassenverkehrsunf%C3%A4lle-nach-unfallort-berlin-2019)\n",
    "\n",
    "The first part of data wrangling involves the following tasks\n",
    "\n",
    "- Changing the column names from German to English\n",
    "- Dropping unnecessary columns"
   ]
  },
  {
   "cell_type": "code",
   "execution_count": null,
   "id": "1eff82b9",
   "metadata": {},
   "outputs": [],
   "source": [
    "#import necessary libraries\n",
    "import pandas as pd\n",
    "import numpy as np\n",
    "import os"
   ]
  },
  {
   "cell_type": "markdown",
   "id": "36cf003a",
   "metadata": {},
   "source": [
    "# Data Wrangling"
   ]
  },
  {
   "cell_type": "code",
   "execution_count": 207,
   "id": "403e2e51",
   "metadata": {},
   "outputs": [],
   "source": [
    "#assigning path\n",
    "path = '/Users/satoruteshima/Documents/CareerFoundry/06 Date Immersion 6/Scripts'"
   ]
  },
  {
   "cell_type": "code",
   "execution_count": 211,
   "id": "8f7b7ef2",
   "metadata": {},
   "outputs": [],
   "source": [
    "df_berlin = pd.read_csv(os.path.join(path, 'Raw', 'berlinaccident2019.csv'), index_col = False, delimiter = ';')"
   ]
  },
  {
   "cell_type": "code",
   "execution_count": 209,
   "id": "51aaa1de",
   "metadata": {},
   "outputs": [
    {
     "data": {
      "text/plain": [
       "(13390, 1)"
      ]
     },
     "execution_count": 209,
     "metadata": {},
     "output_type": "execute_result"
    }
   ],
   "source": [
    "df_berlin.shape"
   ]
  },
  {
   "cell_type": "code",
   "execution_count": 212,
   "id": "f65d7709",
   "metadata": {},
   "outputs": [
    {
     "data": {
      "text/html": [
       "<div>\n",
       "<style scoped>\n",
       "    .dataframe tbody tr th:only-of-type {\n",
       "        vertical-align: middle;\n",
       "    }\n",
       "\n",
       "    .dataframe tbody tr th {\n",
       "        vertical-align: top;\n",
       "    }\n",
       "\n",
       "    .dataframe thead th {\n",
       "        text-align: right;\n",
       "    }\n",
       "</style>\n",
       "<table border=\"1\" class=\"dataframe\">\n",
       "  <thead>\n",
       "    <tr style=\"text-align: right;\">\n",
       "      <th></th>\n",
       "      <th>OBJECTID</th>\n",
       "      <th>LAND</th>\n",
       "      <th>BEZ</th>\n",
       "      <th>LOR</th>\n",
       "      <th>STRASSE</th>\n",
       "      <th>UJAHR</th>\n",
       "      <th>UMONAT</th>\n",
       "      <th>USTUNDE</th>\n",
       "      <th>UWOCHENTAG</th>\n",
       "      <th>UKATEGORIE</th>\n",
       "      <th>...</th>\n",
       "      <th>IstPKW</th>\n",
       "      <th>IstFuss</th>\n",
       "      <th>IstKrad</th>\n",
       "      <th>IstGkfz</th>\n",
       "      <th>IstSonstige</th>\n",
       "      <th>USTRZUSTAND</th>\n",
       "      <th>LINREFX</th>\n",
       "      <th>LINREFY</th>\n",
       "      <th>XGCSWGS84</th>\n",
       "      <th>YGCSWGS84</th>\n",
       "    </tr>\n",
       "  </thead>\n",
       "  <tbody>\n",
       "    <tr>\n",
       "      <th>0</th>\n",
       "      <td>49090</td>\n",
       "      <td>11</td>\n",
       "      <td>12</td>\n",
       "      <td>12301203</td>\n",
       "      <td>Wittenau Süd</td>\n",
       "      <td>2019</td>\n",
       "      <td>1</td>\n",
       "      <td>13</td>\n",
       "      <td>6</td>\n",
       "      <td>3</td>\n",
       "      <td>...</td>\n",
       "      <td>1</td>\n",
       "      <td>0</td>\n",
       "      <td>0</td>\n",
       "      <td>0</td>\n",
       "      <td>0</td>\n",
       "      <td>1</td>\n",
       "      <td>794062,2837</td>\n",
       "      <td>5835083,823</td>\n",
       "      <td>13,34146</td>\n",
       "      <td>52,58609</td>\n",
       "    </tr>\n",
       "    <tr>\n",
       "      <th>1</th>\n",
       "      <td>49091</td>\n",
       "      <td>11</td>\n",
       "      <td>3</td>\n",
       "      <td>3040818</td>\n",
       "      <td>Pankow Süd</td>\n",
       "      <td>2019</td>\n",
       "      <td>1</td>\n",
       "      <td>9</td>\n",
       "      <td>5</td>\n",
       "      <td>3</td>\n",
       "      <td>...</td>\n",
       "      <td>1</td>\n",
       "      <td>0</td>\n",
       "      <td>0</td>\n",
       "      <td>0</td>\n",
       "      <td>0</td>\n",
       "      <td>0</td>\n",
       "      <td>799130,4007</td>\n",
       "      <td>5832327,415</td>\n",
       "      <td>13,41356</td>\n",
       "      <td>52,55862</td>\n",
       "    </tr>\n",
       "    <tr>\n",
       "      <th>2</th>\n",
       "      <td>49093</td>\n",
       "      <td>11</td>\n",
       "      <td>12</td>\n",
       "      <td>12103115</td>\n",
       "      <td>Breitkopfbecken</td>\n",
       "      <td>2019</td>\n",
       "      <td>3</td>\n",
       "      <td>21</td>\n",
       "      <td>6</td>\n",
       "      <td>3</td>\n",
       "      <td>...</td>\n",
       "      <td>0</td>\n",
       "      <td>0</td>\n",
       "      <td>0</td>\n",
       "      <td>0</td>\n",
       "      <td>0</td>\n",
       "      <td>0</td>\n",
       "      <td>795437,613</td>\n",
       "      <td>5833549,454</td>\n",
       "      <td>13,36034</td>\n",
       "      <td>52,57159</td>\n",
       "    </tr>\n",
       "    <tr>\n",
       "      <th>3</th>\n",
       "      <td>49096</td>\n",
       "      <td>11</td>\n",
       "      <td>6</td>\n",
       "      <td>6040703</td>\n",
       "      <td>Nikolassee</td>\n",
       "      <td>2019</td>\n",
       "      <td>1</td>\n",
       "      <td>7</td>\n",
       "      <td>6</td>\n",
       "      <td>2</td>\n",
       "      <td>...</td>\n",
       "      <td>1</td>\n",
       "      <td>1</td>\n",
       "      <td>0</td>\n",
       "      <td>0</td>\n",
       "      <td>0</td>\n",
       "      <td>1</td>\n",
       "      <td>786714,3754</td>\n",
       "      <td>5817042,137</td>\n",
       "      <td>13,21777</td>\n",
       "      <td>52,42825</td>\n",
       "    </tr>\n",
       "    <tr>\n",
       "      <th>4</th>\n",
       "      <td>49097</td>\n",
       "      <td>11</td>\n",
       "      <td>7</td>\n",
       "      <td>7030303</td>\n",
       "      <td>Grazer Platz</td>\n",
       "      <td>2019</td>\n",
       "      <td>2</td>\n",
       "      <td>15</td>\n",
       "      <td>3</td>\n",
       "      <td>3</td>\n",
       "      <td>...</td>\n",
       "      <td>1</td>\n",
       "      <td>0</td>\n",
       "      <td>0</td>\n",
       "      <td>0</td>\n",
       "      <td>0</td>\n",
       "      <td>0</td>\n",
       "      <td>796074,3342</td>\n",
       "      <td>5822724,905</td>\n",
       "      <td>13,36007</td>\n",
       "      <td>52,47421</td>\n",
       "    </tr>\n",
       "  </tbody>\n",
       "</table>\n",
       "<p>5 rows × 24 columns</p>\n",
       "</div>"
      ],
      "text/plain": [
       "   OBJECTID  LAND  BEZ       LOR          STRASSE  UJAHR  UMONAT  USTUNDE  \\\n",
       "0     49090    11   12  12301203     Wittenau Süd   2019       1       13   \n",
       "1     49091    11    3   3040818       Pankow Süd   2019       1        9   \n",
       "2     49093    11   12  12103115  Breitkopfbecken   2019       3       21   \n",
       "3     49096    11    6   6040703       Nikolassee   2019       1        7   \n",
       "4     49097    11    7   7030303     Grazer Platz   2019       2       15   \n",
       "\n",
       "   UWOCHENTAG  UKATEGORIE  ...  IstPKW  IstFuss  IstKrad  IstGkfz  \\\n",
       "0           6           3  ...       1        0        0        0   \n",
       "1           5           3  ...       1        0        0        0   \n",
       "2           6           3  ...       0        0        0        0   \n",
       "3           6           2  ...       1        1        0        0   \n",
       "4           3           3  ...       1        0        0        0   \n",
       "\n",
       "   IstSonstige  USTRZUSTAND      LINREFX      LINREFY XGCSWGS84 YGCSWGS84  \n",
       "0            0            1  794062,2837  5835083,823  13,34146  52,58609  \n",
       "1            0            0  799130,4007  5832327,415  13,41356  52,55862  \n",
       "2            0            0   795437,613  5833549,454  13,36034  52,57159  \n",
       "3            0            1  786714,3754  5817042,137  13,21777  52,42825  \n",
       "4            0            0  796074,3342  5822724,905  13,36007  52,47421  \n",
       "\n",
       "[5 rows x 24 columns]"
      ]
     },
     "execution_count": 212,
     "metadata": {},
     "output_type": "execute_result"
    }
   ],
   "source": [
    "df_berlin.head()"
   ]
  },
  {
   "cell_type": "code",
   "execution_count": 221,
   "id": "0efa19d9",
   "metadata": {},
   "outputs": [],
   "source": [
    "#Change name of the columns from German to English\n",
    "\n",
    "df_berlin.rename(columns = {'LAND' : 'city'}, inplace = True)\n",
    "df_berlin.rename(columns = {'BEZ' : 'district'}, inplace = True)\n",
    "df_berlin.rename(columns = {'LOR' : 'sub district key'}, inplace = True)\n",
    "df_berlin.rename(columns = {'STRASSE' : 'street'}, inplace = True)\n",
    "df_berlin.rename(columns = {'UJAHR' : 'year'}, inplace = True)\n",
    "df_berlin.rename(columns = {'UMONAT' : 'month'}, inplace = True)\n",
    "df_berlin.rename(columns = {'USTUNDE' : 'hour of day'}, inplace = True)\n",
    "df_berlin.rename(columns = {'UKATAGORIE' : 'category'}, inplace = True)\n",
    "df_berlin.rename(columns = {'UMONAT' : 'month'}, inplace = True)"
   ]
  },
  {
   "cell_type": "code",
   "execution_count": 228,
   "id": "cf9f889c",
   "metadata": {},
   "outputs": [],
   "source": [
    "#Change name of the columns from German to English\n",
    "\n",
    "df_berlin.rename(columns = {'UWOCHENTAG' : 'weekday'}, inplace = True)\n",
    "df_berlin.rename(columns = {'UKATEGORIE' : 'category'}, inplace = True)\n",
    "df_berlin.rename(columns = {'UART' : 'accident type'}, inplace = True)\n",
    "df_berlin.rename(columns = {'UTYP1' : 'accident type 2'}, inplace = True)\n",
    "df_berlin.rename(columns = {'ULICHTVERH' : 'light situation'}, inplace = True)\n",
    "df_berlin.rename(columns = {'IstRad' : 'bike involved'}, inplace = True)\n",
    "df_berlin.rename(columns = {'IstPKW' : 'car involved'}, inplace = True)\n",
    "df_berlin.rename(columns = {'IstFuss' : 'pedestrian involved'}, inplace = True)\n",
    "df_berlin.rename(columns = {'IstGkfz' : 'big track involved'}, inplace = True)\n",
    "df_berlin.rename(columns = {'IstKrad' : 'motor bike involved'}, inplace = True)\n",
    "df_berlin.rename(columns = {'IstSonstige' : 'other vehicle involved'}, inplace = True)\n",
    "df_berlin.rename(columns = {'USTRZUSTAND' : 'road condition'}, inplace = True)\n",
    "df_berlin.rename(columns = {'OBJECTID' : 'object id'}, inplace = True)"
   ]
  },
  {
   "cell_type": "markdown",
   "id": "0771fb0c",
   "metadata": {},
   "source": [
    " #District Key\n",
    "\n",
    "|District key|name|\n",
    "|---|---|\n",
    "| 1| Mitte|\n",
    "| 2| Friedrichshain - Kreuzberg |\n",
    "| 3| Pankow|\n",
    "|4 | Charlottenburg - Wilmersdorf|\n",
    "|5| Spandau|\n",
    "|6|Steglitz-Zehlendorf|\n",
    "|7| Tempelhof-Schöneberg|\n",
    "|8| Neukölln|\n",
    "|9|Treptow-Köpenick|\n",
    "|10| Marzahn-Hellersdorf|\n",
    "|11| Lichtenberg|\n",
    "|12| Reinickendorf|"
   ]
  },
  {
   "cell_type": "code",
   "execution_count": 226,
   "id": "ea4d5949",
   "metadata": {},
   "outputs": [],
   "source": [
    "#drop reference columns\n",
    "\n",
    "df_berlin = df_berlin.drop(columns = ['LINREFX'])\n",
    "df_berlin = df_berlin.drop(columns = ['LINREFY'])\n",
    "df_berlin = df_berlin.drop(columns = ['XGCSWGS84'])\n",
    "df_berlin = df_berlin.drop(columns = ['YGCSWGS84'])\n"
   ]
  },
  {
   "cell_type": "code",
   "execution_count": 229,
   "id": "1c8cd29d",
   "metadata": {},
   "outputs": [
    {
     "name": "stdout",
     "output_type": "stream",
     "text": [
      "<class 'pandas.core.frame.DataFrame'>\n",
      "RangeIndex: 13390 entries, 0 to 13389\n",
      "Data columns (total 20 columns):\n",
      " #   Column                  Non-Null Count  Dtype \n",
      "---  ------                  --------------  ----- \n",
      " 0   object id               13390 non-null  int64 \n",
      " 1   city                    13390 non-null  int64 \n",
      " 2   district                13390 non-null  int64 \n",
      " 3   sub district key        13390 non-null  int64 \n",
      " 4   street                  13390 non-null  object\n",
      " 5   year                    13390 non-null  int64 \n",
      " 6   month                   13390 non-null  int64 \n",
      " 7   hour of day             13390 non-null  int64 \n",
      " 8   weekday                 13390 non-null  int64 \n",
      " 9   category                13390 non-null  int64 \n",
      " 10  accident type           13390 non-null  int64 \n",
      " 11  accident type 2         13390 non-null  int64 \n",
      " 12  light situation         13390 non-null  int64 \n",
      " 13  bike involved           13390 non-null  int64 \n",
      " 14  car involved            13390 non-null  int64 \n",
      " 15  pedestrian involved     13390 non-null  int64 \n",
      " 16  motor bike involved     13390 non-null  int64 \n",
      " 17  big track involved      13390 non-null  int64 \n",
      " 18  other vehicle involved  13390 non-null  object\n",
      " 19  road condition          13390 non-null  object\n",
      "dtypes: int64(17), object(3)\n",
      "memory usage: 2.0+ MB\n"
     ]
    }
   ],
   "source": [
    "df_berlin.info()"
   ]
  },
  {
   "cell_type": "code",
   "execution_count": 232,
   "id": "35b6e88b",
   "metadata": {},
   "outputs": [],
   "source": [
    "\n",
    "\n",
    "df_berlin.to_csv(os.path.join(path, 'Clean', 'df_berlin.csv'))"
   ]
  },
  {
   "cell_type": "code",
   "execution_count": null,
   "id": "9d42962d",
   "metadata": {},
   "outputs": [],
   "source": []
  },
  {
   "cell_type": "code",
   "execution_count": null,
   "id": "4171ecf4",
   "metadata": {},
   "outputs": [],
   "source": []
  }
 ],
 "metadata": {
  "kernelspec": {
   "display_name": "Python 3 (ipykernel)",
   "language": "python",
   "name": "python3"
  },
  "language_info": {
   "codemirror_mode": {
    "name": "ipython",
    "version": 3
   },
   "file_extension": ".py",
   "mimetype": "text/x-python",
   "name": "python",
   "nbconvert_exporter": "python",
   "pygments_lexer": "ipython3",
   "version": "3.11.4"
  }
 },
 "nbformat": 4,
 "nbformat_minor": 5
}
